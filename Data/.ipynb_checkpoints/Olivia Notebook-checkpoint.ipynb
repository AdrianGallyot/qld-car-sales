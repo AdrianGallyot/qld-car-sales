{
 "cells": [
  {
   "cell_type": "code",
   "execution_count": null,
   "id": "bbdac722",
   "metadata": {},
   "outputs": [],
   "source": [
    "%matplotlib inline"
   ]
  },
  {
   "cell_type": "code",
   "execution_count": null,
   "id": "b5b70557",
   "metadata": {},
   "outputs": [],
   "source": [
    "#Dependencies\n",
    "import matplotlib.pyplot as plt\n",
    "import numpy as np\n",
    "import seaborn as sns"
   ]
  },
  {
   "cell_type": "code",
   "execution_count": null,
   "id": "b5473ec4",
   "metadata": {},
   "outputs": [],
   "source": [
    "#Create a refernce to the CSV file\n",
    "Car_Sales_Data = pd.read_csv(\"Sales_Data.csv\")\n",
    "Car_Sales_Data.head()"
   ]
  },
  {
   "cell_type": "code",
   "execution_count": null,
   "id": "c1193072",
   "metadata": {},
   "outputs": [],
   "source": [
    "#i want to view the top 5 brands for each year excluding 2021\n",
    "#While telling me the total cars sold for that year by that brand \n",
    "CarSalesData_Grouped = Car_Sales_Data.groupby([\"Year\" , \"Make Name\"])[\"Transactions\"].sum()\n",
    "\n",
    "BodyShapeData_Grouped = Car_Sales_Data.groupby([\"Year\", \"Body Shape Name\"])[\"Transactions\"].sum()\n",
    "\n",
    "#good idea to do after a group by especialy for multiple groups \n",
    "CarSalesData_Grouped = CarSalesData_Grouped.reset_index()\n",
    "\n",
    "BodyShapeData_Grouped = BodyShapeData_Grouped.reset_index()\n",
    "\n",
    "#top models for top 2 brands \n",
    "\n",
    "ToyotaTop5Models = Car_Sales_Data.groupby([\"Year\" , \"Make Name\", \"Model Name\"])[\"Transactions\"].sum()\n",
    "\n",
    "\n",
    "HoldenTop5Models = Car_Sales_Data.groupby([\"Year\" , \"Make Name\", \"Model Name\"])[\"Transactions\"].sum()\n",
    "\n",
    "\n",
    "ToyotaTop5Models = ToyotaTop5Models.reset_index()\n",
    "HoldenTop5Models = HoldenTop5Models.reset_index()\n",
    "\n",
    "                                           "
   ]
  },
  {
   "cell_type": "code",
   "execution_count": null,
   "id": "c1d3f2bc",
   "metadata": {},
   "outputs": [],
   "source": [
    "#CarSalesData_Grouped.head()"
   ]
  },
  {
   "cell_type": "code",
   "execution_count": null,
   "id": "bdc01223",
   "metadata": {},
   "outputs": [],
   "source": [
    "#BodyShapeData_Grouped.head()"
   ]
  },
  {
   "cell_type": "code",
   "execution_count": null,
   "id": "6cc9703d",
   "metadata": {},
   "outputs": [],
   "source": [
    "#make top 5\n",
    "CarSalesData2012_Grouped = CarSalesData_Grouped[CarSalesData_Grouped[\"Year\"] == 2012]\n",
    "CarSalesData2012_GroupedTop5 = CarSalesData2012_Grouped.nlargest(5 , \"Transactions\")\n",
    "\n",
    "CarSalesData2013_Grouped = CarSalesData_Grouped[CarSalesData_Grouped[\"Year\"] == 2013]\n",
    "CarSalesData2013_GroupedTop5 = CarSalesData2013_Grouped.nlargest(5 , \"Transactions\")\n",
    "\n",
    "CarSalesData2014_Grouped = CarSalesData_Grouped[CarSalesData_Grouped[\"Year\"] == 2014]\n",
    "CarSalesData2014_GroupedTop5 = CarSalesData2014_Grouped.nlargest(5 , \"Transactions\")\n",
    "\n",
    "CarSalesData2015_Grouped = CarSalesData_Grouped[CarSalesData_Grouped[\"Year\"] == 2015]\n",
    "CarSalesData2015_GroupedTop5 = CarSalesData2015_Grouped.nlargest(5 , \"Transactions\")\n",
    "\n",
    "CarSalesData2016_Grouped = CarSalesData_Grouped[CarSalesData_Grouped[\"Year\"] == 2016]\n",
    "CarSalesData2016_GroupedTop5 = CarSalesData2016_Grouped.nlargest(5 , \"Transactions\")\n",
    "\n",
    "CarSalesData2017_Grouped = CarSalesData_Grouped[CarSalesData_Grouped[\"Year\"] == 2017]\n",
    "CarSalesData2017_GroupedTop5 = CarSalesData2017_Grouped.nlargest(5 , \"Transactions\")\n",
    "\n",
    "CarSalesData2018_Grouped = CarSalesData_Grouped[CarSalesData_Grouped[\"Year\"] == 2018]\n",
    "CarSalesData2018_GroupedTop5 = CarSalesData2018_Grouped.nlargest(5 , \"Transactions\")\n",
    "\n",
    "CarSalesData2019_Grouped = CarSalesData_Grouped[CarSalesData_Grouped[\"Year\"] == 2019]\n",
    "CarSalesData2019_GroupedTop5 = CarSalesData2019_Grouped.nlargest(5 , \"Transactions\")\n",
    "\n",
    "CarSalesData2020_Grouped = CarSalesData_Grouped[CarSalesData_Grouped[\"Year\"] == 2020]\n",
    "CarSalesData2020_GroupedTop5 = CarSalesData2020_Grouped.nlargest(5 , \"Transactions\")"
   ]
  },
  {
   "cell_type": "code",
   "execution_count": null,
   "id": "063d6f66",
   "metadata": {},
   "outputs": [],
   "source": [
    "#body shape top 5\n",
    "BodyShapeData2012_Grouped = BodyShapeData_Grouped[BodyShapeData_Grouped[\"Year\"] == 2012]\n",
    "BodyShapeData2012_GroupedTop5 = BodyShapeData2012_Grouped.nlargest(5 , \"Transactions\")\n",
    "\n",
    "BodyShapeData2013_Grouped = BodyShapeData_Grouped[BodyShapeData_Grouped[\"Year\"] == 2013]\n",
    "BodyShapeData2013_GroupedTop5 = BodyShapeData2013_Grouped.nlargest(5 , \"Transactions\")\n",
    "\n",
    "BodyShapeData2014_Grouped = BodyShapeData_Grouped[BodyShapeData_Grouped[\"Year\"] == 2014]\n",
    "BodyShapeData2014_GroupedTop5 = BodyShapeData2014_Grouped.nlargest(5 , \"Transactions\")\n",
    "\n",
    "BodyShapeData2015_Grouped = BodyShapeData_Grouped[BodyShapeData_Grouped[\"Year\"] == 2015]\n",
    "BodyShapeData2015_GroupedTop5 = BodyShapeData2015_Grouped.nlargest(5 , \"Transactions\")\n",
    "\n",
    "BodyShapeData2016_Grouped = BodyShapeData_Grouped[BodyShapeData_Grouped[\"Year\"] == 2016]\n",
    "BodyShapeData2016_GroupedTop5 = BodyShapeData2016_Grouped.nlargest(5 , \"Transactions\")\n",
    "\n",
    "BodyShapeData2017_Grouped = BodyShapeData_Grouped[BodyShapeData_Grouped[\"Year\"] == 2017]\n",
    "BodyShapeData2017_GroupedTop5 = BodyShapeData2017_Grouped.nlargest(5 , \"Transactions\")\n",
    "\n",
    "BodyShapeData2018_Grouped = BodyShapeData_Grouped[BodyShapeData_Grouped[\"Year\"] == 2018]\n",
    "BodyShapeData2018_GroupedTop5 = BodyShapeData2018_Grouped.nlargest(5 , \"Transactions\")\n",
    "\n",
    "BodyShapeData2019_Grouped = BodyShapeData_Grouped[BodyShapeData_Grouped[\"Year\"] == 2019]\n",
    "BodyShapeData2019_GroupedTop5 = BodyShapeData2019_Grouped.nlargest(5 , \"Transactions\")\n",
    "\n",
    "BodyShapeData2020_Grouped = BodyShapeData_Grouped[BodyShapeData_Grouped[\"Year\"] == 2020]\n",
    "BodyShapeData2020_GroupedTop5 = BodyShapeData2020_Grouped.nlargest(5 , \"Transactions\")"
   ]
  },
  {
   "cell_type": "code",
   "execution_count": null,
   "id": "68147827",
   "metadata": {},
   "outputs": [],
   "source": [
    "#toyota top 5\n",
    "\n",
    "ToyotaMake = [\"TOYOTA\"]\n",
    "ToyotaOnly = ToyotaTop5Models[ToyotaTop5Models[\"Make Name\"].isin(ToyotaMake)]\n",
    "\n",
    "#ToyotaOnly"
   ]
  },
  {
   "cell_type": "code",
   "execution_count": null,
   "id": "88019969",
   "metadata": {},
   "outputs": [],
   "source": [
    "#toyota top 5 \n",
    "Toyota2012_Grouped = ToyotaOnly[ToyotaOnly[\"Year\"] == 2012]\n",
    "Toyota2012_GroupedTop5 = Toyota2012_Grouped.nlargest(5 , \"Transactions\")\n",
    "\n",
    "Toyota2013_Grouped = ToyotaOnly[ToyotaOnly[\"Year\"] == 2013]\n",
    "Toyota2013_GroupedTop5 = Toyota2013_Grouped.nlargest(5 , \"Transactions\")\n",
    "\n",
    "Toyota2014_Grouped = ToyotaOnly[ToyotaOnly[\"Year\"] == 2014]\n",
    "Toyota2014_GroupedTop5 = Toyota2014_Grouped.nlargest(5 , \"Transactions\")\n",
    "\n",
    "Toyota2015_Grouped = ToyotaOnly[ToyotaOnly[\"Year\"] == 2015]\n",
    "Toyota2015_GroupedTop5 = Toyota2015_Grouped.nlargest(5 , \"Transactions\")\n",
    "\n",
    "Toyota2016_Grouped = ToyotaOnly[ToyotaOnly[\"Year\"] == 2016]\n",
    "Toyota2016_GroupedTop5 = Toyota2016_Grouped.nlargest(5 , \"Transactions\")\n",
    "\n",
    "Toyota2017_Grouped = ToyotaOnly[ToyotaOnly[\"Year\"] == 2017]\n",
    "Toyota2017_GroupedTop5 = Toyota2017_Grouped.nlargest(5 , \"Transactions\")\n",
    "\n",
    "Toyota2018_Grouped = ToyotaOnly[ToyotaOnly[\"Year\"] == 2018]\n",
    "Toyota2018_GroupedTop5 = Toyota2018_Grouped.nlargest(5 , \"Transactions\")\n",
    "\n",
    "Toyota2019_Grouped = ToyotaOnly[ToyotaOnly[\"Year\"] == 2019]\n",
    "Toyota2019_GroupedTop5 = Toyota2019_Grouped.nlargest(5 , \"Transactions\")\n",
    "\n",
    "Toyota2020_Grouped = ToyotaOnly[ToyotaOnly[\"Year\"] == 2020]\n",
    "Toyota2020_GroupedTop5 = Toyota2020_Grouped.nlargest(5 , \"Transactions\")"
   ]
  },
  {
   "cell_type": "code",
   "execution_count": null,
   "id": "a7d400d8",
   "metadata": {},
   "outputs": [],
   "source": [
    "#holden only \n",
    "\n",
    "HoldenMake = [\"HOLDEN\"]\n",
    "HoldenOnly = HoldenTop5Models[HoldenTop5Models[\"Make Name\"].isin(HoldenMake)]\n",
    "\n",
    "#HoldenOnly"
   ]
  },
  {
   "cell_type": "code",
   "execution_count": null,
   "id": "4193ff40",
   "metadata": {},
   "outputs": [],
   "source": [
    "Holden2012_Grouped = HoldenOnly[HoldenOnly[\"Year\"] == 2012]\n",
    "Holden2012_GroupedTop5 = Holden2012_Grouped.nlargest(5 , \"Transactions\")\n",
    "\n",
    "Holden2013_Grouped = HoldenOnly[HoldenOnly[\"Year\"] == 2013]\n",
    "Holden2013_GroupedTop5 = Holden2013_Grouped.nlargest(5 , \"Transactions\")\n",
    "\n",
    "Holden2014_Grouped = HoldenOnly[HoldenOnly[\"Year\"] == 2014]\n",
    "Holden2014_GroupedTop5 = Holden2014_Grouped.nlargest(5 , \"Transactions\")\n",
    "\n",
    "Holden2015_Grouped = HoldenOnly[HoldenOnly[\"Year\"] == 2015]\n",
    "Holden2015_GroupedTop5 = Holden2015_Grouped.nlargest(5 , \"Transactions\")\n",
    "\n",
    "Holden2016_Grouped = HoldenOnly[HoldenOnly[\"Year\"] == 2016]\n",
    "Holden2016_GroupedTop5 = Holden2016_Grouped.nlargest(5 , \"Transactions\")\n",
    "\n",
    "Holden2017_Grouped = HoldenOnly[HoldenOnly[\"Year\"] == 2017]\n",
    "Holden2017_GroupedTop5 = Holden2017_Grouped.nlargest(5 , \"Transactions\")\n",
    "\n",
    "Holden2018_Grouped = HoldenOnly[HoldenOnly[\"Year\"] == 2018]\n",
    "Holden2018_GroupedTop5 = Holden2018_Grouped.nlargest(5 , \"Transactions\")\n",
    "\n",
    "Holden2019_Grouped = HoldenOnly[HoldenOnly[\"Year\"] == 2019]\n",
    "Holden2019_GroupedTop5 = Holden2019_Grouped.nlargest(5 , \"Transactions\")\n",
    "\n",
    "Holden2020_Grouped = HoldenOnly[HoldenOnly[\"Year\"] == 2020]\n",
    "Holden2020_GroupedTop5 = Holden2020_Grouped.nlargest(5 , \"Transactions\")"
   ]
  },
  {
   "cell_type": "code",
   "execution_count": null,
   "id": "ad17628b",
   "metadata": {},
   "outputs": [],
   "source": [
    "#append top 5 \n",
    "\n",
    "\n",
    "CarSalesData_Clean = CarSalesData2012_GroupedTop5.append([CarSalesData2013_GroupedTop5, CarSalesData2014_GroupedTop5, \\\n",
    "                                     CarSalesData2015_GroupedTop5, CarSalesData2016_GroupedTop5, \\\n",
    "                                     CarSalesData2017_GroupedTop5, CarSalesData2018_GroupedTop5, \\\n",
    "                                     CarSalesData2019_GroupedTop5, CarSalesData2020_GroupedTop5])\n",
    "#CarSalesData_Clean"
   ]
  },
  {
   "cell_type": "code",
   "execution_count": null,
   "id": "4df2feaf",
   "metadata": {},
   "outputs": [],
   "source": [
    "#append body shape top 5\n",
    "BodyShapeData_Clean = BodyShapeData2012_GroupedTop5.append([BodyShapeData2013_GroupedTop5, BodyShapeData2014_GroupedTop5, \\\n",
    "                                     BodyShapeData2015_GroupedTop5, BodyShapeData2016_GroupedTop5, \\\n",
    "                                     BodyShapeData2017_GroupedTop5, BodyShapeData2018_GroupedTop5, \\\n",
    "                                     BodyShapeData2019_GroupedTop5, BodyShapeData2020_GroupedTop5])\n",
    "#BodyShapeData_Clean"
   ]
  },
  {
   "cell_type": "code",
   "execution_count": null,
   "id": "728e4adb",
   "metadata": {},
   "outputs": [],
   "source": [
    "#select only top for brands for better graph\n",
    "Top4Makes = [\"TOYOTA\",\"HOLDEN\", \"FORD\", \"MITSUBISHI\" ]\n",
    "Top4Data = CarSalesData_Clean[CarSalesData_Clean[\"Make Name\"].isin(Top4Makes)]"
   ]
  },
  {
   "cell_type": "code",
   "execution_count": null,
   "id": "a3258b06",
   "metadata": {},
   "outputs": [],
   "source": [
    "#plot top 4 grpah\n",
    "sns.lineplot(data = Top4Data, x = \"Year\", y = \"Transactions\", hue = \"Make Name\")"
   ]
  },
  {
   "cell_type": "code",
   "execution_count": null,
   "id": "1e94c64e",
   "metadata": {},
   "outputs": [],
   "source": [
    "#plot body shape graph\n",
    "sns.lineplot(data=BodyShapeData_Clean, x=\"Year\", y=\"Transactions\", hue=\"Body Shape Name\")"
   ]
  },
  {
   "cell_type": "code",
   "execution_count": null,
   "id": "1bdf80f3",
   "metadata": {},
   "outputs": [],
   "source": [
    "#top models for toyota and holden (individual)\n",
    "\n",
    "#appened toyota\n",
    "Toyota_Clean = Toyota2012_GroupedTop5.append([Toyota2013_GroupedTop5, Toyota2014_GroupedTop5, \\\n",
    "                                     Toyota2015_GroupedTop5, Toyota2016_GroupedTop5, \\\n",
    "                                     Toyota2017_GroupedTop5, Toyota2018_GroupedTop5, \\\n",
    "                                     Toyota2019_GroupedTop5, Toyota2020_GroupedTop5])\n",
    "\n",
    "#append holden\n",
    "Holden_Clean = Holden2012_GroupedTop5.append([Holden2013_GroupedTop5, Holden2014_GroupedTop5, \\\n",
    "                                     Holden2015_GroupedTop5, Holden2016_GroupedTop5, \\\n",
    "                                     Holden2017_GroupedTop5, Holden2018_GroupedTop5, \\\n",
    "                                     Holden2019_GroupedTop5, Holden2020_GroupedTop5])"
   ]
  },
  {
   "cell_type": "code",
   "execution_count": null,
   "id": "ec8cba2a",
   "metadata": {
    "scrolled": true
   },
   "outputs": [],
   "source": [
    "Toyota_Clean"
   ]
  },
  {
   "cell_type": "code",
   "execution_count": null,
   "id": "d97d9285",
   "metadata": {},
   "outputs": [],
   "source": [
    "#Holden_Clean"
   ]
  },
  {
   "cell_type": "code",
   "execution_count": null,
   "id": "637d15db",
   "metadata": {},
   "outputs": [],
   "source": [
    "#toyota graph\n",
    "\n",
    "sns.lineplot(data=Toyota_Clean, x=\"Year\", y=\"Transactions\", hue=\"Model Name\",)\n",
    "plt.legend(loc='center left')"
   ]
  },
  {
   "cell_type": "code",
   "execution_count": null,
   "id": "08be54f6",
   "metadata": {},
   "outputs": [],
   "source": [
    "#holden graph\n",
    "\n",
    "sns.lineplot(data=Holden_Clean, x=\"Year\", y=\"Transactions\", hue=\"Model Name\")"
   ]
  }
 ],
 "metadata": {
  "kernelspec": {
   "display_name": "Python 3",
   "language": "python",
   "name": "python3"
  },
  "language_info": {
   "codemirror_mode": {
    "name": "ipython",
    "version": 3
   },
   "file_extension": ".py",
   "mimetype": "text/x-python",
   "name": "python",
   "nbconvert_exporter": "python",
   "pygments_lexer": "ipython3",
   "version": "3.8.8"
  }
 },
 "nbformat": 4,
 "nbformat_minor": 5
}
